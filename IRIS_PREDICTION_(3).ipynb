{
  "nbformat": 4,
  "nbformat_minor": 0,
  "metadata": {
    "colab": {
      "name": "IRIS_PREDICTION (3).ipynb",
      "provenance": [],
      "collapsed_sections": [],
      "include_colab_link": true
    },
    "kernelspec": {
      "name": "python3",
      "display_name": "Python 3"
    }
  },
  "cells": [
    {
      "cell_type": "markdown",
      "metadata": {
        "id": "view-in-github",
        "colab_type": "text"
      },
      "source": [
        "<a href=\"https://colab.research.google.com/github/Deniswanja/Denis-kim/blob/master/IRIS_PREDICTION_(3).ipynb\" target=\"_parent\"><img src=\"https://colab.research.google.com/assets/colab-badge.svg\" alt=\"Open In Colab\"/></a>"
      ]
    },
    {
      "cell_type": "code",
      "metadata": {
        "id": "kOs8s2QvDwa4"
      },
      "source": [
        "import pandas \n",
        "from pandas.plotting import scatter_matrix\n",
        "import matplotlib.pyplot as plt\n",
        "from sklearn import model_selection\n",
        "from sklearn.metrics import classification_report\n",
        "from sklearn.metrics import confusion_matrix\n",
        "from sklearn.metrics import accuracy_score\n",
        "from sklearn.linear_model import LogisticRegression\n",
        "from sklearn.tree import DecisionTreeClassifier\n",
        "from sklearn.neighbors import KNeighborsClassifier\n",
        "from sklearn.discriminant_analysis import LinearDiscriminantAnalysis\n",
        "from sklearn.naive_bayes import GaussianNB\n",
        "from sklearn.svm import SVC"
      ],
      "execution_count": 7,
      "outputs": []
    },
    {
      "cell_type": "code",
      "metadata": {
        "id": "nR8b1CMjEDqG"
      },
      "source": [
        "from sklearn import datasets\n",
        "iris = datasets.load_iris()"
      ],
      "execution_count": 8,
      "outputs": []
    },
    {
      "cell_type": "code",
      "metadata": {
        "id": "7lWTdlWGED3K"
      },
      "source": [
        "import pandas as pd"
      ],
      "execution_count": 9,
      "outputs": []
    },
    {
      "cell_type": "code",
      "metadata": {
        "id": "5m_cKgNJE5Fl"
      },
      "source": [
        "iris_data= iris.data\n",
        "iris_data=pd.DataFrame(iris_data,columns=iris.feature_names)\n",
        "iris_data['class']=iris.target"
      ],
      "execution_count": 10,
      "outputs": []
    },
    {
      "cell_type": "code",
      "metadata": {
        "colab": {
          "base_uri": "https://localhost:8080/",
          "height": 419
        },
        "id": "LDd2xVlwE5UB",
        "outputId": "a3acf0f1-e152-4d5d-a2b1-954406e63ac3"
      },
      "source": [
        "iris_data\n"
      ],
      "execution_count": 11,
      "outputs": [
        {
          "output_type": "execute_result",
          "data": {
            "text/html": [
              "<div>\n",
              "<style scoped>\n",
              "    .dataframe tbody tr th:only-of-type {\n",
              "        vertical-align: middle;\n",
              "    }\n",
              "\n",
              "    .dataframe tbody tr th {\n",
              "        vertical-align: top;\n",
              "    }\n",
              "\n",
              "    .dataframe thead th {\n",
              "        text-align: right;\n",
              "    }\n",
              "</style>\n",
              "<table border=\"1\" class=\"dataframe\">\n",
              "  <thead>\n",
              "    <tr style=\"text-align: right;\">\n",
              "      <th></th>\n",
              "      <th>sepal length (cm)</th>\n",
              "      <th>sepal width (cm)</th>\n",
              "      <th>petal length (cm)</th>\n",
              "      <th>petal width (cm)</th>\n",
              "      <th>class</th>\n",
              "    </tr>\n",
              "  </thead>\n",
              "  <tbody>\n",
              "    <tr>\n",
              "      <th>0</th>\n",
              "      <td>5.1</td>\n",
              "      <td>3.5</td>\n",
              "      <td>1.4</td>\n",
              "      <td>0.2</td>\n",
              "      <td>0</td>\n",
              "    </tr>\n",
              "    <tr>\n",
              "      <th>1</th>\n",
              "      <td>4.9</td>\n",
              "      <td>3.0</td>\n",
              "      <td>1.4</td>\n",
              "      <td>0.2</td>\n",
              "      <td>0</td>\n",
              "    </tr>\n",
              "    <tr>\n",
              "      <th>2</th>\n",
              "      <td>4.7</td>\n",
              "      <td>3.2</td>\n",
              "      <td>1.3</td>\n",
              "      <td>0.2</td>\n",
              "      <td>0</td>\n",
              "    </tr>\n",
              "    <tr>\n",
              "      <th>3</th>\n",
              "      <td>4.6</td>\n",
              "      <td>3.1</td>\n",
              "      <td>1.5</td>\n",
              "      <td>0.2</td>\n",
              "      <td>0</td>\n",
              "    </tr>\n",
              "    <tr>\n",
              "      <th>4</th>\n",
              "      <td>5.0</td>\n",
              "      <td>3.6</td>\n",
              "      <td>1.4</td>\n",
              "      <td>0.2</td>\n",
              "      <td>0</td>\n",
              "    </tr>\n",
              "    <tr>\n",
              "      <th>...</th>\n",
              "      <td>...</td>\n",
              "      <td>...</td>\n",
              "      <td>...</td>\n",
              "      <td>...</td>\n",
              "      <td>...</td>\n",
              "    </tr>\n",
              "    <tr>\n",
              "      <th>145</th>\n",
              "      <td>6.7</td>\n",
              "      <td>3.0</td>\n",
              "      <td>5.2</td>\n",
              "      <td>2.3</td>\n",
              "      <td>2</td>\n",
              "    </tr>\n",
              "    <tr>\n",
              "      <th>146</th>\n",
              "      <td>6.3</td>\n",
              "      <td>2.5</td>\n",
              "      <td>5.0</td>\n",
              "      <td>1.9</td>\n",
              "      <td>2</td>\n",
              "    </tr>\n",
              "    <tr>\n",
              "      <th>147</th>\n",
              "      <td>6.5</td>\n",
              "      <td>3.0</td>\n",
              "      <td>5.2</td>\n",
              "      <td>2.0</td>\n",
              "      <td>2</td>\n",
              "    </tr>\n",
              "    <tr>\n",
              "      <th>148</th>\n",
              "      <td>6.2</td>\n",
              "      <td>3.4</td>\n",
              "      <td>5.4</td>\n",
              "      <td>2.3</td>\n",
              "      <td>2</td>\n",
              "    </tr>\n",
              "    <tr>\n",
              "      <th>149</th>\n",
              "      <td>5.9</td>\n",
              "      <td>3.0</td>\n",
              "      <td>5.1</td>\n",
              "      <td>1.8</td>\n",
              "      <td>2</td>\n",
              "    </tr>\n",
              "  </tbody>\n",
              "</table>\n",
              "<p>150 rows × 5 columns</p>\n",
              "</div>"
            ],
            "text/plain": [
              "     sepal length (cm)  sepal width (cm)  ...  petal width (cm)  class\n",
              "0                  5.1               3.5  ...               0.2      0\n",
              "1                  4.9               3.0  ...               0.2      0\n",
              "2                  4.7               3.2  ...               0.2      0\n",
              "3                  4.6               3.1  ...               0.2      0\n",
              "4                  5.0               3.6  ...               0.2      0\n",
              "..                 ...               ...  ...               ...    ...\n",
              "145                6.7               3.0  ...               2.3      2\n",
              "146                6.3               2.5  ...               1.9      2\n",
              "147                6.5               3.0  ...               2.0      2\n",
              "148                6.2               3.4  ...               2.3      2\n",
              "149                5.9               3.0  ...               1.8      2\n",
              "\n",
              "[150 rows x 5 columns]"
            ]
          },
          "metadata": {
            "tags": []
          },
          "execution_count": 11
        }
      ]
    },
    {
      "cell_type": "code",
      "metadata": {
        "colab": {
          "base_uri": "https://localhost:8080/"
        },
        "id": "5MywTzJVE5RI",
        "outputId": "c9be4ff4-e98e-4815-a419-40516d1b4147"
      },
      "source": [
        "print(iris_data.describe())"
      ],
      "execution_count": 12,
      "outputs": [
        {
          "output_type": "stream",
          "text": [
            "       sepal length (cm)  sepal width (cm)  ...  petal width (cm)       class\n",
            "count         150.000000        150.000000  ...        150.000000  150.000000\n",
            "mean            5.843333          3.057333  ...          1.199333    1.000000\n",
            "std             0.828066          0.435866  ...          0.762238    0.819232\n",
            "min             4.300000          2.000000  ...          0.100000    0.000000\n",
            "25%             5.100000          2.800000  ...          0.300000    0.000000\n",
            "50%             5.800000          3.000000  ...          1.300000    1.000000\n",
            "75%             6.400000          3.300000  ...          1.800000    2.000000\n",
            "max             7.900000          4.400000  ...          2.500000    2.000000\n",
            "\n",
            "[8 rows x 5 columns]\n"
          ],
          "name": "stdout"
        }
      ]
    },
    {
      "cell_type": "code",
      "metadata": {
        "colab": {
          "base_uri": "https://localhost:8080/"
        },
        "id": "aoMG5HU_E5N0",
        "outputId": "c5391385-5ea3-4ca5-dce4-5cb18bb4fd97"
      },
      "source": [
        "print(iris_data.groupby('class').size())"
      ],
      "execution_count": null,
      "outputs": [
        {
          "output_type": "stream",
          "text": [
            "class\n",
            "0    50\n",
            "1    50\n",
            "2    50\n",
            "dtype: int64\n"
          ],
          "name": "stdout"
        }
      ]
    },
    {
      "cell_type": "code",
      "metadata": {
        "colab": {
          "base_uri": "https://localhost:8080/",
          "height": 281
        },
        "id": "TGpwAIsYEENI",
        "outputId": "084e41d4-957b-4f9e-cbc7-fe1b6a463e95"
      },
      "source": [
        "iris_data.hist()\n",
        "plt.show()"
      ],
      "execution_count": 13,
      "outputs": [
        {
          "output_type": "display_data",
          "data": {
            "image/png": "[encoded data removed]",
            "text/plain": [
              "<Figure size 432x288 with 6 Axes>"
            ]
          },
          "metadata": {
            "tags": [],
            "needs_background": "light"
          }
        }
      ]
    },
    {
      "cell_type": "code",
      "metadata": {
        "id": "JlIuqllSF5ZM"
      },
      "source": [
        "array = iris_data.values\n",
        "X = array[:,0:4]\n",
        "Y = array[:,4]\n",
        "validation_size = 0.20\n",
        "seed = 7\n",
        "X_train, X_validation, Y_train, Y_validation = model_selection.train_test_split(X, Y, test_size=validation_size, random_state=seed)"
      ],
      "execution_count": 14,
      "outputs": []
    },
    {
      "cell_type": "code",
      "metadata": {
        "id": "xoxn5Pt-F5-E"
      },
      "source": [
        "seed = 7\n",
        "scoring = 'accuracy'"
      ],
      "execution_count": 15,
      "outputs": []
    },
    {
      "cell_type": "code",
      "metadata": {
        "id": "jyPjFj06F6P3"
      },
      "source": [
        "from sklearn.ensemble import RandomForestClassifier #ensembles"
      ],
      "execution_count": 16,
      "outputs": []
    },
    {
      "cell_type": "code",
      "metadata": {
        "colab": {
          "base_uri": "https://localhost:8080/"
        },
        "id": "g1Hofxk9F6H0",
        "outputId": "55dc0fb6-d8db-4ac9-b044-beafb5160593"
      },
      "source": [
        "models = []\n",
        "models.append(('LR', LogisticRegression(solver='liblinear', multi_class='ovr')))\n",
        "models.append(('LDA', LinearDiscriminantAnalysis()))\n",
        "models.append(('KNN', KNeighborsClassifier()))\n",
        "models.append(('CART', DecisionTreeClassifier()))\n",
        "models.append(('NB', GaussianNB()))\n",
        "models.append(('SVM', SVC(gamma='auto')))\n",
        "models.append(('RF',RandomForestClassifier()))\n",
        "# evaluate each model in turn\n",
        "results = []\n",
        "names = []\n",
        "for name, model in models:\n",
        "\tkfold = model_selection.KFold(n_splits=10, random_state=seed)\n",
        "\tcv_results = model_selection.cross_val_score(model, X_train, Y_train, cv=kfold, scoring=scoring)\n",
        "\tresults.append(cv_results)\n",
        "\tnames.append(name)\n",
        "\tmsg = \"%s: %f (%f)\" % (name, cv_results.mean(), cv_results.std())\n",
        "\tprint(msg)"
      ],
      "execution_count": null,
      "outputs": [
        {
          "output_type": "stream",
          "text": [
            "/usr/local/lib/python3.7/dist-packages/sklearn/model_selection/_split.py:296: FutureWarning: Setting a random_state has no effect since shuffle is False. This will raise an error in 0.24. You should leave random_state to its default (None), or set shuffle=True.\n",
            "  FutureWarning\n",
            "/usr/local/lib/python3.7/dist-packages/sklearn/model_selection/_split.py:296: FutureWarning: Setting a random_state has no effect since shuffle is False. This will raise an error in 0.24. You should leave random_state to its default (None), or set shuffle=True.\n",
            "  FutureWarning\n",
            "/usr/local/lib/python3.7/dist-packages/sklearn/model_selection/_split.py:296: FutureWarning: Setting a random_state has no effect since shuffle is False. This will raise an error in 0.24. You should leave random_state to its default (None), or set shuffle=True.\n",
            "  FutureWarning\n",
            "/usr/local/lib/python3.7/dist-packages/sklearn/model_selection/_split.py:296: FutureWarning: Setting a random_state has no effect since shuffle is False. This will raise an error in 0.24. You should leave random_state to its default (None), or set shuffle=True.\n",
            "  FutureWarning\n",
            "/usr/local/lib/python3.7/dist-packages/sklearn/model_selection/_split.py:296: FutureWarning: Setting a random_state has no effect since shuffle is False. This will raise an error in 0.24. You should leave random_state to its default (None), or set shuffle=True.\n",
            "  FutureWarning\n",
            "/usr/local/lib/python3.7/dist-packages/sklearn/model_selection/_split.py:296: FutureWarning: Setting a random_state has no effect since shuffle is False. This will raise an error in 0.24. You should leave random_state to its default (None), or set shuffle=True.\n",
            "  FutureWarning\n",
            "/usr/local/lib/python3.7/dist-packages/sklearn/model_selection/_split.py:296: FutureWarning: Setting a random_state has no effect since shuffle is False. This will raise an error in 0.24. You should leave random_state to its default (None), or set shuffle=True.\n",
            "  FutureWarning\n"
          ],
          "name": "stderr"
        },
        {
          "output_type": "stream",
          "text": [
            "LR: 0.966667 (0.040825)\n",
            "LDA: 0.975000 (0.038188)\n",
            "KNN: 0.983333 (0.033333)\n",
            "CART: 0.966667 (0.040825)\n",
            "NB: 0.975000 (0.053359)\n",
            "SVM: 0.991667 (0.025000)\n",
            "RF: 0.966667 (0.040825)\n"
          ],
          "name": "stdout"
        }
      ]
    },
    {
      "cell_type": "code",
      "metadata": {
        "colab": {
          "base_uri": "https://localhost:8080/"
        },
        "id": "vmjPLa6rHIOw",
        "outputId": "100b334e-2ecd-4eac-8519-72ac92bd202d"
      },
      "source": [
        "knn = KNeighborsClassifier()\n",
        "knn.fit(X_train, Y_train)\n",
        "predictions = knn.predict(X_validation)\n",
        "print(accuracy_score(Y_validation, predictions))\n",
        "print(confusion_matrix(Y_validation, predictions))\n",
        "print(classification_report(Y_validation, predictions))"
      ],
      "execution_count": 17,
      "outputs": [
        {
          "output_type": "stream",
          "text": [
            "0.9\n",
            "[[ 7  0  0]\n",
            " [ 0 11  1]\n",
            " [ 0  2  9]]\n",
            "              precision    recall  f1-score   support\n",
            "\n",
            "         0.0       1.00      1.00      1.00         7\n",
            "         1.0       0.85      0.92      0.88        12\n",
            "         2.0       0.90      0.82      0.86        11\n",
            "\n",
            "    accuracy                           0.90        30\n",
            "   macro avg       0.92      0.91      0.91        30\n",
            "weighted avg       0.90      0.90      0.90        30\n",
            "\n"
          ],
          "name": "stdout"
        }
      ]
    },
    {
      "cell_type": "code",
      "metadata": {
        "colab": {
          "base_uri": "https://localhost:8080/"
        },
        "id": "boESXZtVHKXN",
        "outputId": "ea89709d-f3c7-474c-c079-01f5f117e947"
      },
      "source": [
        "RF=RandomForestClassifier(n_estimators=5)\n",
        "RF.fit(X_train,Y_train)\n",
        "prediction=RF.predict(X_validation)\n",
        "print(accuracy_score(Y_validation,prediction))\n",
        "print(confusion_matrix(Y_validation,predictions))\n",
        "print(classification_report(Y_validation,predictions))"
      ],
      "execution_count": null,
      "outputs": [
        {
          "output_type": "stream",
          "text": [
            "0.9\n",
            "[[ 7  0  0]\n",
            " [ 0 11  1]\n",
            " [ 0  2  9]]\n",
            "              precision    recall  f1-score   support\n",
            "\n",
            "         0.0       1.00      1.00      1.00         7\n",
            "         1.0       0.85      0.92      0.88        12\n",
            "         2.0       0.90      0.82      0.86        11\n",
            "\n",
            "    accuracy                           0.90        30\n",
            "   macro avg       0.92      0.91      0.91        30\n",
            "weighted avg       0.90      0.90      0.90        30\n",
            "\n"
          ],
          "name": "stdout"
        }
      ]
    },
    {
      "cell_type": "code",
      "metadata": {
        "colab": {
          "base_uri": "https://localhost:8080/"
        },
        "id": "4TrEcRR_HKmG",
        "outputId": "94e8e9bc-1717-4761-8a3f-dfa6d2fa8043"
      },
      "source": [
        "CART= DecisionTreeClassifier()\n",
        "CART.fit(X_train, Y_train)\n",
        "predictions = CART.predict(X_validation)\n",
        "print(accuracy_score(Y_validation, predictions))\n",
        "print(confusion_matrix(Y_validation, predictions))\n",
        "print(classification_report(Y_validation, predictions))"
      ],
      "execution_count": null,
      "outputs": [
        {
          "output_type": "stream",
          "text": [
            "0.8666666666666667\n",
            "[[ 7  0  0]\n",
            " [ 0 10  2]\n",
            " [ 0  2  9]]\n",
            "              precision    recall  f1-score   support\n",
            "\n",
            "         0.0       1.00      1.00      1.00         7\n",
            "         1.0       0.83      0.83      0.83        12\n",
            "         2.0       0.82      0.82      0.82        11\n",
            "\n",
            "    accuracy                           0.87        30\n",
            "   macro avg       0.88      0.88      0.88        30\n",
            "weighted avg       0.87      0.87      0.87        30\n",
            "\n"
          ],
          "name": "stdout"
        }
      ]
    },
    {
      "cell_type": "code",
      "metadata": {
        "colab": {
          "base_uri": "https://localhost:8080/"
        },
        "id": "72Ny9JPRLKN9",
        "outputId": "2616f741-d490-493c-d6b3-abbcef25fd95"
      },
      "source": [
        "SVM= SVC()\n",
        "SVM.fit(X_train,Y_train)\n",
        "prediction=SVM.predict(X_validation)\n",
        "print(accuracy_score(Y_validation,prediction))\n",
        "print(confusion_matrix(Y_validation,predictions))\n",
        "print(classification_report(Y_validation,predictions))"
      ],
      "execution_count": null,
      "outputs": [
        {
          "output_type": "stream",
          "text": [
            "0.8666666666666667\n",
            "[[ 7  0  0]\n",
            " [ 0 10  2]\n",
            " [ 0  2  9]]\n",
            "              precision    recall  f1-score   support\n",
            "\n",
            "         0.0       1.00      1.00      1.00         7\n",
            "         1.0       0.83      0.83      0.83        12\n",
            "         2.0       0.82      0.82      0.82        11\n",
            "\n",
            "    accuracy                           0.87        30\n",
            "   macro avg       0.88      0.88      0.88        30\n",
            "weighted avg       0.87      0.87      0.87        30\n",
            "\n"
          ],
          "name": "stdout"
        }
      ]
    },
    {
      "cell_type": "code",
      "metadata": {
        "id": "LqAO3t6fLKYM",
        "colab": {
          "base_uri": "https://localhost:8080/",
          "height": 521
        },
        "outputId": "64df4ded-81d2-43b6-d8a2-81ce07dee50e"
      },
      "source": [
        "NB = GaussianNB()\n",
        "NB.fit(X_train,Y_train)\n",
        "prediction=NB.predict(X_validation)\n",
        "print(accuracy_score(Y_validation,prediction))\n",
        "print(confusion_matrix(Y_validation,predictions))\n",
        "print(classification_report(Y_validation,predictions))\n",
        "from sklearn import metrics\n",
        "metrics.plot_confusion_matrix(NB, X_validation, Y_validation, cmap=plt.cm.Blues, display_labels=iris.target_names)\n",
        "plt.show()"
      ],
      "execution_count": null,
      "outputs": [
        {
          "output_type": "stream",
          "text": [
            "0.8333333333333334\n",
            "[[ 7  0  0]\n",
            " [ 0 11  1]\n",
            " [ 0  2  9]]\n",
            "              precision    recall  f1-score   support\n",
            "\n",
            "         0.0       1.00      1.00      1.00         7\n",
            "         1.0       0.85      0.92      0.88        12\n",
            "         2.0       0.90      0.82      0.86        11\n",
            "\n",
            "    accuracy                           0.90        30\n",
            "   macro avg       0.92      0.91      0.91        30\n",
            "weighted avg       0.90      0.90      0.90        30\n",
            "\n"
          ],
          "name": "stdout"
        },
        {
          "output_type": "display_data",
          "data": {
            "image/png": "[encoded data removed]",
            "text/plain": [
              "<Figure size 432x288 with 2 Axes>"
            ]
          },
          "metadata": {
            "tags": [],
            "needs_background": "light"
          }
        }
      ]
    },
    {
      "cell_type": "code",
      "metadata": {
        "colab": {
          "base_uri": "https://localhost:8080/",
          "height": 521
        },
        "id": "ei6PdZB8JGP2",
        "outputId": "9f7424a7-10e4-4f71-f2e6-b34237e6025f"
      },
      "source": [
        "LD=RandomForestClassifier(n_estimators=5)\n",
        "LD.fit(X_train,Y_train)\n",
        "prediction=LD.predict(X_validation)\n",
        "print(accuracy_score(Y_validation,prediction))\n",
        "print(confusion_matrix(Y_validation,predictions))\n",
        "print(classification_report(Y_validation,predictions))\n",
        "from sklearn import metrics\n",
        "metrics.plot_confusion_matrix(LD, X_validation, Y_validation, cmap=plt.cm.Blues, display_labels=iris.target_names)\n",
        "plt.show()"
      ],
      "execution_count": null,
      "outputs": [
        {
          "output_type": "stream",
          "text": [
            "0.8666666666666667\n",
            "[[ 7  0  0]\n",
            " [ 0 11  1]\n",
            " [ 0  2  9]]\n",
            "              precision    recall  f1-score   support\n",
            "\n",
            "         0.0       1.00      1.00      1.00         7\n",
            "         1.0       0.85      0.92      0.88        12\n",
            "         2.0       0.90      0.82      0.86        11\n",
            "\n",
            "    accuracy                           0.90        30\n",
            "   macro avg       0.92      0.91      0.91        30\n",
            "weighted avg       0.90      0.90      0.90        30\n",
            "\n"
          ],
          "name": "stdout"
        },
        {
          "output_type": "display_data",
          "data": {
            "image/png": "[encoded data removed]",
            "text/plain": [
              "<Figure size 432x288 with 2 Axes>"
            ]
          },
          "metadata": {
            "tags": [],
            "needs_background": "light"
          }
        }
      ]
    },
    {
      "cell_type": "code",
      "metadata": {
        "colab": {
          "base_uri": "https://localhost:8080/",
          "height": 521
        },
        "id": "CM9KpsZmkrlX",
        "outputId": "a2e12935-958a-4d03-dcdc-6c3bce3a411f"
      },
      "source": [
        "LR=RandomForestClassifier(n_estimators=5)\n",
        "LR.fit(X_train,Y_train)\n",
        "prediction=LR.predict(X_validation)\n",
        "print(accuracy_score(Y_validation,prediction))\n",
        "print(confusion_matrix(Y_validation,predictions))\n",
        "print(classification_report(Y_validation,predictions))\n",
        "from sklearn import metrics\n",
        "metrics.plot_confusion_matrix(LR, X_validation, Y_validation, cmap=plt.cm.Blues, display_labels=iris.target_names)\n",
        "plt.show()"
      ],
      "execution_count": 18,
      "outputs": [
        {
          "output_type": "stream",
          "text": [
            "0.8666666666666667\n",
            "[[ 7  0  0]\n",
            " [ 0 11  1]\n",
            " [ 0  2  9]]\n",
            "              precision    recall  f1-score   support\n",
            "\n",
            "         0.0       1.00      1.00      1.00         7\n",
            "         1.0       0.85      0.92      0.88        12\n",
            "         2.0       0.90      0.82      0.86        11\n",
            "\n",
            "    accuracy                           0.90        30\n",
            "   macro avg       0.92      0.91      0.91        30\n",
            "weighted avg       0.90      0.90      0.90        30\n",
            "\n"
          ],
          "name": "stdout"
        },
        {
          "output_type": "display_data",
          "data": {
            "image/png": "[encoded data removed]",
            "text/plain": [
              "<Figure size 432x288 with 2 Axes>"
            ]
          },
          "metadata": {
            "tags": [],
            "needs_background": "light"
          }
        }
      ]
    },
    {
      "cell_type": "code",
      "metadata": {
        "id": "7o_vMDXyHKxb"
      },
      "source": [
        "from mlxtend.plotting import plot_decision_regions"
      ],
      "execution_count": null,
      "outputs": []
    },
    {
      "cell_type": "code",
      "metadata": {
        "colab": {
          "base_uri": "https://localhost:8080/",
          "height": 517
        },
        "id": "IYKRrgIlIyzL",
        "outputId": "40dd59ff-3f28-46b9-8164-7126c5a613c5"
      },
      "source": [
        "LDA=RandomForestClassifier(n_estimators=5)\n",
        "LDA.fit(X_train,Y_train)\n",
        "prediction=LDA.predict(X_validation)\n",
        "print(accuracy_score(Y_validation,prediction))\n",
        "print(confusion_matrix(Y_validation,predictions))\n",
        "print(classification_report(Y_validation,predictions))\n",
        "from sklearn import metrics\n",
        "metrics.plot_confusion_matrix(LDA, X_validation, Y_validation, cmap=plt.cm.Blues, display_labels=iris.target_names)\n",
        "plt.show()"
      ],
      "execution_count": null,
      "outputs": [
        {
          "output_type": "stream",
          "text": [
            "0.8666666666666667\n",
            "[[ 7  0  0]\n",
            " [ 0 11  1]\n",
            " [ 0  2  9]]\n",
            "              precision    recall  f1-score   support\n",
            "\n",
            "         0.0       1.00      1.00      1.00         7\n",
            "         1.0       0.85      0.92      0.88        12\n",
            "         2.0       0.90      0.82      0.86        11\n",
            "\n",
            "    accuracy                           0.90        30\n",
            "   macro avg       0.92      0.91      0.91        30\n",
            "weighted avg       0.90      0.90      0.90        30\n",
            "\n"
          ],
          "name": "stdout"
        },
        {
          "output_type": "display_data",
          "data": {
            "image/png": "[encoded data removed]",
            "text/plain": [
              "<Figure size 432x288 with 2 Axes>"
            ]
          },
          "metadata": {
            "tags": [],
            "needs_background": "light"
          }
        }
      ]
    },
    {
      "cell_type": "code",
      "metadata": {
        "id": "F2a7RiGfK1Dd"
      },
      "source": [
        ""
      ],
      "execution_count": null,
      "outputs": []
    }
  ]
}